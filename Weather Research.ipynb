{
 "cells": [
  {
   "cell_type": "code",
   "execution_count": 16,
   "metadata": {},
   "outputs": [],
   "source": [
    "import os\n",
    "import pandas as pd\n",
    "import re\n",
    "\n",
    "# Data source\n",
    "# https://www.ecad.eu/indicesextremes/customquerytimeseriesplots.php?optionSelected=index&processtext1=Your+query+is+being+processed.+Please+wait...&countryselect=SWITZERLAND%7Cch&stationselect=All+stations%7C**&categoryselect=All+categories%7C**&indexselect=CWD%3A+Maximum+no+of+consecutive+wet+days+%28RR+%3E%3D+1+mm%29%5B1%5D%7CCWD&seasonselect=ANNUAL%7C0&processtext2=Your+query+is+being+processed.+Please+wait...\n",
    "base_folder = \"weather_data\"\n"
   ]
  },
  {
   "cell_type": "code",
   "execution_count": 17,
   "metadata": {},
   "outputs": [],
   "source": [
    "# List for all files\n",
    "all_data = []\n",
    "\n",
    "# Pass on each index\n",
    "for index_folder in os.listdir(base_folder):\n",
    "    index_path = os.path.join(base_folder, index_folder)\n",
    "    if os.path.isdir(index_path):\n",
    "        for filename in os.listdir(index_path):\n",
    "            if filename.endswith(\".txt\"):\n",
    "                filepath = os.path.join(index_path, filename)\n",
    "\n",
    "                # We read the first 20 lines\n",
    "                with open(filepath, 'r', encoding='utf-8') as file:\n",
    "                    header_lines = [next(file) for _ in range(20)]\n",
    "\n",
    "                # Looking for a line with information about the station\n",
    "                station_line = [line for line in header_lines if \"This is the time series data\" in line][0]\n",
    "\n",
    "                # Extract the name of the station and the Station-ID by regular expression\n",
    "                match = re.search(r\"SWITZERLAND,\\s*(.+?)\\s*\\(Station-ID:\\s*(\\d+)\\)\", station_line)\n",
    "                if match:\n",
    "                    station_name = match.group(1).strip()\n",
    "                    station_id = match.group(2).strip()\n",
    "                else:\n",
    "                    station_name = \"Unknown\"\n",
    "                    station_id = \"Unknown\"\n",
    "\n",
    "                # Read the data themselves\n",
    "                df = pd.read_csv(filepath, skiprows=20, names=[\"YEAR\", \"CALC\", \"MEAN\"])\n",
    "                \n",
    "                # Filter bad values\n",
    "                df = df[df[\"YEAR\"] != -999999]\n",
    "                \n",
    "                # Add the Index, Station and Station ID columns\n",
    "                df[\"INDEX\"] = index_folder\n",
    "                df[\"STATION_NAME\"] = station_name\n",
    "                df[\"STATION_ID\"] = station_id\n",
    "\n",
    "                all_data.append(df)\n",
    "\n"
   ]
  },
  {
   "cell_type": "code",
   "execution_count": 18,
   "metadata": {},
   "outputs": [],
   "source": [
    "# Combine all the data\n",
    "final_df = pd.concat(all_data, ignore_index=True)"
   ]
  },
  {
   "cell_type": "code",
   "execution_count": 19,
   "metadata": {},
   "outputs": [],
   "source": [
    "final_df[\"YEAR\"] = pd.to_numeric(final_df[\"YEAR\"], errors=\"coerce\")\n",
    "final_df[\"CALC\"] = pd.to_numeric(final_df[\"CALC\"], errors=\"coerce\")\n",
    "final_df[\"MEAN\"] = pd.to_numeric(final_df[\"MEAN\"], errors=\"coerce\")\n",
    "final_df[\"STATION_ID\"] = pd.to_numeric(final_df[\"STATION_ID\"], errors=\"coerce\")\n",
    "\n",
    "# Delete rows with incorrect values ​​in YEAR column\n",
    "final_df = final_df.dropna(subset=[\"YEAR\"])\n",
    "\n",
    "# Convert YEAR column into an int type (after NAN removal)\n",
    "final_df[\"YEAR\"] = final_df[\"YEAR\"].astype(int)\n",
    "\n",
    "# Filter data from 2000 to 2024 inclusive\n",
    "final_df = final_df[final_df[\"YEAR\"] == 2023]\n"
   ]
  },
  {
   "cell_type": "code",
   "execution_count": 20,
   "metadata": {},
   "outputs": [],
   "source": [
    "final_df[\"CALC\"] = final_df[\"CALC\"] / 100"
   ]
  },
  {
   "cell_type": "code",
   "execution_count": 21,
   "metadata": {},
   "outputs": [
    {
     "data": {
      "application/vnd.microsoft.datawrangler.viewer.v0+json": {
       "columns": [
        {
         "name": "index",
         "rawType": "int64",
         "type": "integer"
        },
        {
         "name": "YEAR",
         "rawType": "int64",
         "type": "integer"
        },
        {
         "name": "CALC",
         "rawType": "float64",
         "type": "float"
        },
        {
         "name": "MEAN",
         "rawType": "float64",
         "type": "float"
        },
        {
         "name": "INDEX",
         "rawType": "object",
         "type": "string"
        },
        {
         "name": "STATION_NAME",
         "rawType": "object",
         "type": "string"
        },
        {
         "name": "STATION_ID",
         "rawType": "int64",
         "type": "integer"
        }
       ],
       "conversionMethod": "pd.DataFrame",
       "ref": "7399570a-a97e-49d1-abbf-006bd1d84257",
       "rows": [
        [
         "244",
         "2023",
         "0.25",
         "23.0",
         "SD",
         "LUZERN",
         "1655"
        ],
        [
         "370",
         "2023",
         "3.53",
         "-999999.0",
         "SD",
         "ELM",
         "10984"
        ],
        [
         "496",
         "2023",
         "0.0",
         "7.0",
         "SD",
         "GENEVE COINTRIN",
         "240"
        ],
        [
         "622",
         "2023",
         "2.58",
         "308.0",
         "SD",
         "CHATEAU-D'OEX",
         "1645"
        ],
        [
         "748",
         "2023",
         "7.23",
         "1864.0",
         "SD",
         "S. BERNARDINO",
         "1659"
        ],
        [
         "874",
         "2023",
         "0.06",
         "13.0",
         "SD",
         "BASEL BINNINGEN",
         "239"
        ],
        [
         "1000",
         "2023",
         "0.51",
         "35.0",
         "SD",
         "SION 2",
         "1662"
        ],
        [
         "1126",
         "2023",
         "-9999.99",
         "-999999.0",
         "SD",
         "PAYERNE",
         "2180"
        ],
        [
         "1250",
         "2023",
         "2.32",
         "615.0",
         "SD",
         "GRACHEN",
         "1650"
        ],
        [
         "1376",
         "2023",
         "2.53",
         "333.0",
         "SD",
         "LA CHAUX-DE-FONDS",
         "1653"
        ],
        [
         "1623",
         "2023",
         "165.91",
         "19496.0",
         "SD",
         "SAENTIS",
         "243"
        ],
        [
         "1749",
         "2023",
         "0.0",
         "10.0",
         "SD",
         "LOCARNO-MONTI",
         "1438"
        ],
        [
         "1996",
         "2023",
         "0.03",
         "10.0",
         "SD",
         "NEUCHATEL",
         "1656"
        ],
        [
         "2122",
         "2023",
         "56.92",
         "7767.0",
         "SD",
         "GRIMSEL HOSPIZ",
         "1651"
        ],
        [
         "2248",
         "2023",
         "0.99",
         "168.0",
         "SD",
         "ST. GALLEN (ANETZ-STATIONS)",
         "1663"
        ],
        [
         "2374",
         "2023",
         "8.02",
         "1460.0",
         "SD",
         "SAMEDAN",
         "1658"
        ],
        [
         "2500",
         "2023",
         "0.0",
         "7.0",
         "SD",
         "GENEVE OBSERVATOIRE",
         "241"
        ],
        [
         "2626",
         "2023",
         "0.32",
         "39.0",
         "SD",
         "BERN/ZOLLIKOFEN",
         "1644"
        ],
        [
         "2752",
         "2023",
         "0.04",
         "14.0",
         "SD",
         "ALTDORF",
         "1641"
        ],
        [
         "2878",
         "2023",
         "0.45",
         "37.0",
         "SD",
         "ZUERICH/FLUNTERN",
         "244"
        ],
        [
         "3004",
         "2023",
         "2.2",
         "684.0",
         "SD",
         "ENGELBERG",
         "1648"
        ],
        [
         "3130",
         "2023",
         "0.79",
         "-999999.0",
         "SD",
         "MEIRINGEN",
         "10986"
        ],
        [
         "3256",
         "2023",
         "8.02",
         "1460.0",
         "SD",
         "SAMEDAN 1",
         "1657"
        ],
        [
         "3382",
         "2023",
         "10.21",
         "2152.0",
         "SD",
         "ANDERMATT",
         "1642"
        ],
        [
         "3508",
         "2023",
         "12.08",
         "2120.0",
         "SD",
         "DAVOS",
         "1647"
        ],
        [
         "3634",
         "2023",
         "0.0",
         "8.0",
         "SD",
         "LUGANO",
         "242"
        ],
        [
         "3760",
         "2023",
         "7.88",
         "2090.0",
         "SD",
         "SEGL-MARIA",
         "1660"
        ],
        [
         "4007",
         "2023",
         "2.14",
         "-999999.0",
         "SD",
         "CHAUMONT",
         "10983"
        ],
        [
         "4133",
         "2023",
         "46.0",
         "3982.0",
         "R10MM",
         "ALTDORF",
         "1641"
        ],
        [
         "4259",
         "2023",
         "42.0",
         "3383.0",
         "R10MM",
         "ZUERICH/FLUNTERN",
         "244"
        ],
        [
         "4385",
         "2023",
         "67.0",
         "5692.0",
         "R10MM",
         "ENGELBERG",
         "1648"
        ],
        [
         "4632",
         "2023",
         "53.0",
         "5297.0",
         "R10MM",
         "ST. GALLEN (ANETZ-STATIONS)",
         "1663"
        ],
        [
         "4879",
         "2023",
         "77.0",
         "6401.0",
         "R10MM",
         "GRIMSEL HOSPIZ",
         "1651"
        ],
        [
         "5126",
         "2023",
         "35.0",
         "2789.0",
         "R10MM",
         "GENEVE OBSERVATOIRE",
         "241"
        ],
        [
         "5252",
         "2023",
         "41.0",
         "3676.0",
         "R10MM",
         "BERN/ZOLLIKOFEN",
         "1644"
        ],
        [
         "5378",
         "2023",
         "25.0",
         "2221.0",
         "R10MM",
         "SAMEDAN",
         "1658"
        ],
        [
         "5504",
         "2023",
         "40.0",
         "3429.0",
         "R10MM",
         "DAVOS",
         "1647"
        ],
        [
         "5630",
         "2023",
         "39.0",
         "4299.0",
         "R10MM",
         "LUGANO",
         "242"
        ],
        [
         "6562",
         "2023",
         "54.0",
         "4659.0",
         "R10MM",
         "MEIRINGEN",
         "1435"
        ],
        [
         "6701",
         "2023",
         "34.0",
         "-999999.0",
         "R10MM",
         "CHAUMONT",
         "10983"
        ],
        [
         "6948",
         "2023",
         "32.0",
         "3136.0",
         "R10MM",
         "SEGL-MARIA",
         "1660"
        ],
        [
         "7074",
         "2023",
         "25.0",
         "2221.0",
         "R10MM",
         "SAMEDAN 1",
         "1657"
        ],
        [
         "8006",
         "2023",
         "54.0",
         "4659.0",
         "R10MM",
         "MEIRINGEN",
         "10986"
        ],
        [
         "8145",
         "2023",
         "37.0",
         "3473.0",
         "R10MM",
         "ANDERMATT",
         "1642"
        ],
        [
         "8271",
         "2023",
         "49.0",
         "5297.0",
         "R10MM",
         "S. BERNARDINO",
         "1659"
        ],
        [
         "8397",
         "2023",
         "35.0",
         "2789.0",
         "R10MM",
         "GENEVE COINTRIN",
         "240"
        ],
        [
         "8523",
         "2023",
         "61.0",
         "4968.0",
         "R10MM",
         "CHATEAU-D'OEX",
         "1645"
        ],
        [
         "8649",
         "2023",
         "25.0",
         "1612.0",
         "R10MM",
         "GRACHEN",
         "1650"
        ],
        [
         "8896",
         "2023",
         "29.0",
         "1867.0",
         "R10MM",
         "SION 2",
         "1662"
        ],
        [
         "9022",
         "2023",
         "20.0",
         "2404.0",
         "R10MM",
         "BASEL BINNINGEN",
         "239"
        ]
       ],
       "shape": {
        "columns": 6,
        "rows": 533
       }
      },
      "text/html": [
       "<div>\n",
       "<style scoped>\n",
       "    .dataframe tbody tr th:only-of-type {\n",
       "        vertical-align: middle;\n",
       "    }\n",
       "\n",
       "    .dataframe tbody tr th {\n",
       "        vertical-align: top;\n",
       "    }\n",
       "\n",
       "    .dataframe thead th {\n",
       "        text-align: right;\n",
       "    }\n",
       "</style>\n",
       "<table border=\"1\" class=\"dataframe\">\n",
       "  <thead>\n",
       "    <tr style=\"text-align: right;\">\n",
       "      <th></th>\n",
       "      <th>YEAR</th>\n",
       "      <th>CALC</th>\n",
       "      <th>MEAN</th>\n",
       "      <th>INDEX</th>\n",
       "      <th>STATION_NAME</th>\n",
       "      <th>STATION_ID</th>\n",
       "    </tr>\n",
       "  </thead>\n",
       "  <tbody>\n",
       "    <tr>\n",
       "      <th>244</th>\n",
       "      <td>2023</td>\n",
       "      <td>0.25</td>\n",
       "      <td>23.0</td>\n",
       "      <td>SD</td>\n",
       "      <td>LUZERN</td>\n",
       "      <td>1655</td>\n",
       "    </tr>\n",
       "    <tr>\n",
       "      <th>370</th>\n",
       "      <td>2023</td>\n",
       "      <td>3.53</td>\n",
       "      <td>-999999.0</td>\n",
       "      <td>SD</td>\n",
       "      <td>ELM</td>\n",
       "      <td>10984</td>\n",
       "    </tr>\n",
       "    <tr>\n",
       "      <th>496</th>\n",
       "      <td>2023</td>\n",
       "      <td>0.00</td>\n",
       "      <td>7.0</td>\n",
       "      <td>SD</td>\n",
       "      <td>GENEVE COINTRIN</td>\n",
       "      <td>240</td>\n",
       "    </tr>\n",
       "    <tr>\n",
       "      <th>622</th>\n",
       "      <td>2023</td>\n",
       "      <td>2.58</td>\n",
       "      <td>308.0</td>\n",
       "      <td>SD</td>\n",
       "      <td>CHATEAU-D'OEX</td>\n",
       "      <td>1645</td>\n",
       "    </tr>\n",
       "    <tr>\n",
       "      <th>748</th>\n",
       "      <td>2023</td>\n",
       "      <td>7.23</td>\n",
       "      <td>1864.0</td>\n",
       "      <td>SD</td>\n",
       "      <td>S. BERNARDINO</td>\n",
       "      <td>1659</td>\n",
       "    </tr>\n",
       "    <tr>\n",
       "      <th>...</th>\n",
       "      <td>...</td>\n",
       "      <td>...</td>\n",
       "      <td>...</td>\n",
       "      <td>...</td>\n",
       "      <td>...</td>\n",
       "      <td>...</td>\n",
       "    </tr>\n",
       "    <tr>\n",
       "      <th>89420</th>\n",
       "      <td>2023</td>\n",
       "      <td>0.00</td>\n",
       "      <td>0.0</td>\n",
       "      <td>TR</td>\n",
       "      <td>CHATEAU-D'OEX</td>\n",
       "      <td>1645</td>\n",
       "    </tr>\n",
       "    <tr>\n",
       "      <th>89546</th>\n",
       "      <td>2023</td>\n",
       "      <td>0.00</td>\n",
       "      <td>0.0</td>\n",
       "      <td>TR</td>\n",
       "      <td>S. BERNARDINO</td>\n",
       "      <td>1659</td>\n",
       "    </tr>\n",
       "    <tr>\n",
       "      <th>89672</th>\n",
       "      <td>2023</td>\n",
       "      <td>0.00</td>\n",
       "      <td>0.0</td>\n",
       "      <td>TR</td>\n",
       "      <td>COL DU GRAND ST-BERNARD</td>\n",
       "      <td>1649</td>\n",
       "    </tr>\n",
       "    <tr>\n",
       "      <th>89919</th>\n",
       "      <td>2023</td>\n",
       "      <td>0.00</td>\n",
       "      <td>-999999.0</td>\n",
       "      <td>TR</td>\n",
       "      <td>ELM</td>\n",
       "      <td>10984</td>\n",
       "    </tr>\n",
       "    <tr>\n",
       "      <th>90045</th>\n",
       "      <td>2023</td>\n",
       "      <td>1.00</td>\n",
       "      <td>0.0</td>\n",
       "      <td>TR</td>\n",
       "      <td>LUZERN</td>\n",
       "      <td>1655</td>\n",
       "    </tr>\n",
       "  </tbody>\n",
       "</table>\n",
       "<p>533 rows × 6 columns</p>\n",
       "</div>"
      ],
      "text/plain": [
       "       YEAR  CALC      MEAN INDEX             STATION_NAME  STATION_ID\n",
       "244    2023  0.25      23.0    SD                   LUZERN        1655\n",
       "370    2023  3.53 -999999.0    SD                      ELM       10984\n",
       "496    2023  0.00       7.0    SD          GENEVE COINTRIN         240\n",
       "622    2023  2.58     308.0    SD            CHATEAU-D'OEX        1645\n",
       "748    2023  7.23    1864.0    SD            S. BERNARDINO        1659\n",
       "...     ...   ...       ...   ...                      ...         ...\n",
       "89420  2023  0.00       0.0    TR            CHATEAU-D'OEX        1645\n",
       "89546  2023  0.00       0.0    TR            S. BERNARDINO        1659\n",
       "89672  2023  0.00       0.0    TR  COL DU GRAND ST-BERNARD        1649\n",
       "89919  2023  0.00 -999999.0    TR                      ELM       10984\n",
       "90045  2023  1.00       0.0    TR                   LUZERN        1655\n",
       "\n",
       "[533 rows x 6 columns]"
      ]
     },
     "execution_count": 21,
     "metadata": {},
     "output_type": "execute_result"
    }
   ],
   "source": [
    "final_df"
   ]
  },
  {
   "cell_type": "code",
   "execution_count": 22,
   "metadata": {},
   "outputs": [
    {
     "name": "stdout",
     "output_type": "stream",
     "text": [
      "✅ Successfully saved parsed_weather_data.csv!\n"
     ]
    }
   ],
   "source": [
    "# Store in CSV\n",
    "final_df.to_csv(\"parsed_weather_data.csv\", index=False)\n",
    "\n",
    "print(\"✅ Successfully saved parsed_weather_data.csv!\")"
   ]
  },
  {
   "cell_type": "markdown",
   "metadata": {},
   "source": [
    "| Index | Description | How to understand CALC | How to use it |\n",
    "|:-----|:-------------|:------------------------|:--------------|\n",
    "| **CW** | Cold and Wet Days (days with low temperatures and precipitation) | Number of cold and wet days per year  | Higher risk of transport delays during extreme weather days. |\n",
    "| **CWD** | Consecutive Wet Days (longest series of wet days) | Length of the longest consecutive rainy period (in 1 days) | If delivery overlaps with long rainy periods, expect a delay. |\n",
    "| **FD** | Frost Days (days with minimum temperature below 0°C) | Number of frost days per year  | Frost can cause road icing; important to model delays in winter months. |\n",
    "| **FG6BFT** | Strong Wind Days (days with wind ≥ 6 Beaufort) | Number of very windy days per year  | Strong winds can disrupt truck and cargo transport, especially in mountains. |\n",
    "| **FGCALM** | Calm Days (days with very low wind) | Number of calm days per year  | Calm weather reduces risk; no significant impact on delays. |\n",
    "| **R10MM** | Heavy Rain Days (days with ≥ 10mm precipitation) | Number of heavy rain days per year  | Heavy rain can slow transportation or cause minor disruptions. |\n",
    "| **R20MM** | Very Heavy Rain Days (days with ≥ 20mm precipitation) | Number of very heavy rain days per year  | Severe rain events may flood roads and cause major delays. |\n",
    "| **SD** | Snow Depth (maximum snow depth measured in a year) | Maximum snow cover height in centimeters (in 1 cm) | High snow depth significantly blocks or delays transport. |\n",
    "| **SD1** | Snow Days > 1cm (days with snow cover > 1 cm) | Number of days with snow exceeding 1 cm  | Even small snow coverage can cause transport slowdowns. |\n",
    "| **SD5CM** | Snow Days > 5cm (days with snow cover > 5 cm) | Number of days with snow exceeding 5 cm  | High snow accumulation can require rerouting or cause delays. |\n",
    "| **SD50CM** | Snow Days > 50cm (days with snow cover > 50 cm) | Number of days with snow exceeding 50 cm  | Extreme snow events; consider delivery as almost impossible during such conditions. |\n",
    "| **TR** | Tropical Nights (nights with minimum temperature > 20°C) | Number of tropical nights per year  | High nighttime temperatures have minor influence; can affect equipment or driver fatigue. |\n",
    "| **WW** | Warm and Wet Days (days with high temperature and rain) | Number of warm and rainy days per year  | May cause fog, slippery conditions, and moderate delays. |"
   ]
  },
  {
   "cell_type": "code",
   "execution_count": 23,
   "metadata": {},
   "outputs": [],
   "source": [
    "intresting_indices = ['CW', 'FG6BFT', 'R10MM', 'R20MM', 'SD5CM', 'SD50CM']"
   ]
  },
  {
   "cell_type": "code",
   "execution_count": 24,
   "metadata": {},
   "outputs": [
    {
     "data": {
      "application/vnd.microsoft.datawrangler.viewer.v0+json": {
       "columns": [
        {
         "name": "index",
         "rawType": "int64",
         "type": "integer"
        },
        {
         "name": "YEAR",
         "rawType": "int64",
         "type": "integer"
        },
        {
         "name": "CALC",
         "rawType": "float64",
         "type": "float"
        },
        {
         "name": "MEAN",
         "rawType": "float64",
         "type": "float"
        },
        {
         "name": "INDEX",
         "rawType": "object",
         "type": "string"
        },
        {
         "name": "STATION_NAME",
         "rawType": "object",
         "type": "string"
        },
        {
         "name": "STATION_ID",
         "rawType": "int64",
         "type": "integer"
        }
       ],
       "conversionMethod": "pd.DataFrame",
       "ref": "d1146808-bc8a-4aa8-b3b7-4a9f5f6def5c",
       "rows": [
        [
         "4133",
         "2023",
         "46.0",
         "3982.0",
         "R10MM",
         "ALTDORF",
         "1641"
        ],
        [
         "4259",
         "2023",
         "42.0",
         "3383.0",
         "R10MM",
         "ZUERICH/FLUNTERN",
         "244"
        ],
        [
         "4385",
         "2023",
         "67.0",
         "5692.0",
         "R10MM",
         "ENGELBERG",
         "1648"
        ],
        [
         "4632",
         "2023",
         "53.0",
         "5297.0",
         "R10MM",
         "ST. GALLEN (ANETZ-STATIONS)",
         "1663"
        ],
        [
         "4879",
         "2023",
         "77.0",
         "6401.0",
         "R10MM",
         "GRIMSEL HOSPIZ",
         "1651"
        ],
        [
         "5126",
         "2023",
         "35.0",
         "2789.0",
         "R10MM",
         "GENEVE OBSERVATOIRE",
         "241"
        ],
        [
         "5252",
         "2023",
         "41.0",
         "3676.0",
         "R10MM",
         "BERN/ZOLLIKOFEN",
         "1644"
        ],
        [
         "5378",
         "2023",
         "25.0",
         "2221.0",
         "R10MM",
         "SAMEDAN",
         "1658"
        ],
        [
         "5504",
         "2023",
         "40.0",
         "3429.0",
         "R10MM",
         "DAVOS",
         "1647"
        ],
        [
         "5630",
         "2023",
         "39.0",
         "4299.0",
         "R10MM",
         "LUGANO",
         "242"
        ],
        [
         "6562",
         "2023",
         "54.0",
         "4659.0",
         "R10MM",
         "MEIRINGEN",
         "1435"
        ],
        [
         "6701",
         "2023",
         "34.0",
         "-999999.0",
         "R10MM",
         "CHAUMONT",
         "10983"
        ],
        [
         "6948",
         "2023",
         "32.0",
         "3136.0",
         "R10MM",
         "SEGL-MARIA",
         "1660"
        ],
        [
         "7074",
         "2023",
         "25.0",
         "2221.0",
         "R10MM",
         "SAMEDAN 1",
         "1657"
        ],
        [
         "8006",
         "2023",
         "54.0",
         "4659.0",
         "R10MM",
         "MEIRINGEN",
         "10986"
        ],
        [
         "8145",
         "2023",
         "37.0",
         "3473.0",
         "R10MM",
         "ANDERMATT",
         "1642"
        ],
        [
         "8271",
         "2023",
         "49.0",
         "5297.0",
         "R10MM",
         "S. BERNARDINO",
         "1659"
        ],
        [
         "8397",
         "2023",
         "35.0",
         "2789.0",
         "R10MM",
         "GENEVE COINTRIN",
         "240"
        ],
        [
         "8523",
         "2023",
         "61.0",
         "4968.0",
         "R10MM",
         "CHATEAU-D'OEX",
         "1645"
        ],
        [
         "8649",
         "2023",
         "25.0",
         "1612.0",
         "R10MM",
         "GRACHEN",
         "1650"
        ],
        [
         "8896",
         "2023",
         "29.0",
         "1867.0",
         "R10MM",
         "SION 2",
         "1662"
        ],
        [
         "9022",
         "2023",
         "20.0",
         "2404.0",
         "R10MM",
         "BASEL BINNINGEN",
         "239"
        ],
        [
         "9148",
         "2023",
         "28.0",
         "2907.0",
         "R10MM",
         "PAYERNE",
         "2180"
        ],
        [
         "9395",
         "2023",
         "70.0",
         "-999999.0",
         "R10MM",
         "ELM",
         "10984"
        ],
        [
         "9521",
         "2023",
         "44.0",
         "4397.0",
         "R10MM",
         "LUZERN",
         "1655"
        ],
        [
         "9647",
         "2023",
         "50.0",
         "5712.0",
         "R10MM",
         "COL DU GRAND ST-BERNARD",
         "1649"
        ],
        [
         "9773",
         "2023",
         "41.0",
         "3523.0",
         "R10MM",
         "BAD RAGAZ",
         "1643"
        ],
        [
         "9899",
         "2023",
         "51.0",
         "4665.0",
         "R10MM",
         "LOCARNO-MONTI",
         "1438"
        ],
        [
         "10025",
         "2023",
         "32.0",
         "3315.0",
         "R10MM",
         "NEUCHATEL",
         "1656"
        ],
        [
         "10514",
         "2023",
         "57.0",
         "5280.0",
         "R10MM",
         "LA CHAUX-DE-FONDS",
         "1653"
        ],
        [
         "10640",
         "2023",
         "115.0",
         "9745.0",
         "R10MM",
         "SAENTIS",
         "243"
        ],
        [
         "21807",
         "2023",
         "0.0",
         "308.0",
         "SD5CM",
         "LOCARNO-MONTI",
         "1438"
        ],
        [
         "21943",
         "2023",
         "-9999.99",
         "-999999.0",
         "SD5CM",
         "BAD RAGAZ",
         "1643"
        ],
        [
         "22079",
         "2023",
         "0.0",
         "205.0",
         "SD5CM",
         "NEUCHATEL",
         "1656"
        ],
        [
         "22215",
         "2023",
         "57.0",
         "6130.0",
         "SD5CM",
         "LA CHAUX-DE-FONDS",
         "1653"
        ],
        [
         "22351",
         "2023",
         "-9999.99",
         "-999999.0",
         "SD5CM",
         "SION 1",
         "1661"
        ],
        [
         "22487",
         "2023",
         "262.0",
         "26747.0",
         "SD5CM",
         "SAENTIS",
         "243"
        ],
        [
         "22623",
         "2023",
         "0.0",
         "190.0",
         "SD5CM",
         "GENEVE COINTRIN",
         "240"
        ],
        [
         "22759",
         "2023",
         "51.0",
         "5718.0",
         "SD5CM",
         "CHATEAU-D'OEX",
         "1645"
        ],
        [
         "22895",
         "2023",
         "115.0",
         "13607.0",
         "SD5CM",
         "S. BERNARDINO",
         "1659"
        ],
        [
         "23031",
         "2023",
         "2.0",
         "338.0",
         "SD5CM",
         "BASEL BINNINGEN",
         "239"
        ],
        [
         "23167",
         "2023",
         "17.0",
         "874.0",
         "SD5CM",
         "SION 2",
         "1662"
        ],
        [
         "23303",
         "2023",
         "-9999.99",
         "-999999.0",
         "SD5CM",
         "PAYERNE",
         "2180"
        ],
        [
         "23439",
         "2023",
         "42.0",
         "9253.0",
         "SD5CM",
         "GRACHEN",
         "1650"
        ],
        [
         "23575",
         "2023",
         "-9999.99",
         "-999999.0",
         "SD5CM",
         "COL DU GRAND ST-BERNARD",
         "1649"
        ],
        [
         "23711",
         "2023",
         "5.0",
         "646.0",
         "SD5CM",
         "LUZERN",
         "1655"
        ],
        [
         "23847",
         "2023",
         "71.0",
         "-999999.0",
         "SD5CM",
         "ELM",
         "10984"
        ],
        [
         "23983",
         "2023",
         "137.0",
         "14680.0",
         "SD5CM",
         "DAVOS",
         "1647"
        ],
        [
         "24119",
         "2023",
         "0.0",
         "277.0",
         "SD5CM",
         "LUGANO",
         "242"
        ],
        [
         "24255",
         "2023",
         "148.0",
         "15895.0",
         "SD5CM",
         "SEGL-MARIA",
         "1660"
        ]
       ],
       "shape": {
        "columns": 6,
        "rows": 253
       }
      },
      "text/html": [
       "<div>\n",
       "<style scoped>\n",
       "    .dataframe tbody tr th:only-of-type {\n",
       "        vertical-align: middle;\n",
       "    }\n",
       "\n",
       "    .dataframe tbody tr th {\n",
       "        vertical-align: top;\n",
       "    }\n",
       "\n",
       "    .dataframe thead th {\n",
       "        text-align: right;\n",
       "    }\n",
       "</style>\n",
       "<table border=\"1\" class=\"dataframe\">\n",
       "  <thead>\n",
       "    <tr style=\"text-align: right;\">\n",
       "      <th></th>\n",
       "      <th>YEAR</th>\n",
       "      <th>CALC</th>\n",
       "      <th>MEAN</th>\n",
       "      <th>INDEX</th>\n",
       "      <th>STATION_NAME</th>\n",
       "      <th>STATION_ID</th>\n",
       "    </tr>\n",
       "  </thead>\n",
       "  <tbody>\n",
       "    <tr>\n",
       "      <th>4133</th>\n",
       "      <td>2023</td>\n",
       "      <td>46.0</td>\n",
       "      <td>3982.0</td>\n",
       "      <td>R10MM</td>\n",
       "      <td>ALTDORF</td>\n",
       "      <td>1641</td>\n",
       "    </tr>\n",
       "    <tr>\n",
       "      <th>4259</th>\n",
       "      <td>2023</td>\n",
       "      <td>42.0</td>\n",
       "      <td>3383.0</td>\n",
       "      <td>R10MM</td>\n",
       "      <td>ZUERICH/FLUNTERN</td>\n",
       "      <td>244</td>\n",
       "    </tr>\n",
       "    <tr>\n",
       "      <th>4385</th>\n",
       "      <td>2023</td>\n",
       "      <td>67.0</td>\n",
       "      <td>5692.0</td>\n",
       "      <td>R10MM</td>\n",
       "      <td>ENGELBERG</td>\n",
       "      <td>1648</td>\n",
       "    </tr>\n",
       "    <tr>\n",
       "      <th>4632</th>\n",
       "      <td>2023</td>\n",
       "      <td>53.0</td>\n",
       "      <td>5297.0</td>\n",
       "      <td>R10MM</td>\n",
       "      <td>ST. GALLEN (ANETZ-STATIONS)</td>\n",
       "      <td>1663</td>\n",
       "    </tr>\n",
       "    <tr>\n",
       "      <th>4879</th>\n",
       "      <td>2023</td>\n",
       "      <td>77.0</td>\n",
       "      <td>6401.0</td>\n",
       "      <td>R10MM</td>\n",
       "      <td>GRIMSEL HOSPIZ</td>\n",
       "      <td>1651</td>\n",
       "    </tr>\n",
       "    <tr>\n",
       "      <th>...</th>\n",
       "      <td>...</td>\n",
       "      <td>...</td>\n",
       "      <td>...</td>\n",
       "      <td>...</td>\n",
       "      <td>...</td>\n",
       "      <td>...</td>\n",
       "    </tr>\n",
       "    <tr>\n",
       "      <th>81912</th>\n",
       "      <td>2023</td>\n",
       "      <td>26.0</td>\n",
       "      <td>2619.0</td>\n",
       "      <td>R20MM</td>\n",
       "      <td>LUGANO</td>\n",
       "      <td>242</td>\n",
       "    </tr>\n",
       "    <tr>\n",
       "      <th>82038</th>\n",
       "      <td>2023</td>\n",
       "      <td>11.0</td>\n",
       "      <td>1178.0</td>\n",
       "      <td>R20MM</td>\n",
       "      <td>DAVOS</td>\n",
       "      <td>1647</td>\n",
       "    </tr>\n",
       "    <tr>\n",
       "      <th>82164</th>\n",
       "      <td>2023</td>\n",
       "      <td>15.0</td>\n",
       "      <td>1253.0</td>\n",
       "      <td>R20MM</td>\n",
       "      <td>SEGL-MARIA</td>\n",
       "      <td>1660</td>\n",
       "    </tr>\n",
       "    <tr>\n",
       "      <th>82290</th>\n",
       "      <td>2023</td>\n",
       "      <td>13.0</td>\n",
       "      <td>-999999.0</td>\n",
       "      <td>R20MM</td>\n",
       "      <td>CHAUMONT</td>\n",
       "      <td>10983</td>\n",
       "    </tr>\n",
       "    <tr>\n",
       "      <th>83343</th>\n",
       "      <td>2023</td>\n",
       "      <td>15.0</td>\n",
       "      <td>1667.0</td>\n",
       "      <td>R20MM</td>\n",
       "      <td>MEIRINGEN</td>\n",
       "      <td>1435</td>\n",
       "    </tr>\n",
       "  </tbody>\n",
       "</table>\n",
       "<p>253 rows × 6 columns</p>\n",
       "</div>"
      ],
      "text/plain": [
       "       YEAR  CALC      MEAN  INDEX                 STATION_NAME  STATION_ID\n",
       "4133   2023  46.0    3982.0  R10MM                      ALTDORF        1641\n",
       "4259   2023  42.0    3383.0  R10MM             ZUERICH/FLUNTERN         244\n",
       "4385   2023  67.0    5692.0  R10MM                    ENGELBERG        1648\n",
       "4632   2023  53.0    5297.0  R10MM  ST. GALLEN (ANETZ-STATIONS)        1663\n",
       "4879   2023  77.0    6401.0  R10MM               GRIMSEL HOSPIZ        1651\n",
       "...     ...   ...       ...    ...                          ...         ...\n",
       "81912  2023  26.0    2619.0  R20MM                       LUGANO         242\n",
       "82038  2023  11.0    1178.0  R20MM                        DAVOS        1647\n",
       "82164  2023  15.0    1253.0  R20MM                   SEGL-MARIA        1660\n",
       "82290  2023  13.0 -999999.0  R20MM                     CHAUMONT       10983\n",
       "83343  2023  15.0    1667.0  R20MM                    MEIRINGEN        1435\n",
       "\n",
       "[253 rows x 6 columns]"
      ]
     },
     "execution_count": 24,
     "metadata": {},
     "output_type": "execute_result"
    }
   ],
   "source": [
    "filtered_data = final_df[final_df['INDEX'].isin(intresting_indices)]\n",
    "filtered_data"
   ]
  },
  {
   "cell_type": "code",
   "execution_count": 25,
   "metadata": {},
   "outputs": [],
   "source": [
    "filtered_data = filtered_data[filtered_data['CALC'] != -9999.99]"
   ]
  },
  {
   "cell_type": "code",
   "execution_count": 26,
   "metadata": {},
   "outputs": [],
   "source": [
    "average_probabilities = filtered_data.groupby('INDEX')['CALC'].mean()\n"
   ]
  },
  {
   "cell_type": "code",
   "execution_count": 28,
   "metadata": {},
   "outputs": [
    {
     "data": {
      "text/plain": [
       "INDEX\n",
       "CW        0.023836\n",
       "FG6BFT    0.009932\n",
       "R10MM     0.124437\n",
       "R20MM     0.050994\n",
       "SD50CM    0.049619\n",
       "SD5CM     0.167225\n",
       "Name: CALC, dtype: float64"
      ]
     },
     "execution_count": 28,
     "metadata": {},
     "output_type": "execute_result"
    }
   ],
   "source": [
    "daily_probabilities = average_probabilities / 365\n",
    "daily_probabilities"
   ]
  }
 ],
 "metadata": {
  "kernelspec": {
   "display_name": ".venv",
   "language": "python",
   "name": "python3"
  },
  "language_info": {
   "codemirror_mode": {
    "name": "ipython",
    "version": 3
   },
   "file_extension": ".py",
   "mimetype": "text/x-python",
   "name": "python",
   "nbconvert_exporter": "python",
   "pygments_lexer": "ipython3",
   "version": "3.12.5"
  }
 },
 "nbformat": 4,
 "nbformat_minor": 2
}
