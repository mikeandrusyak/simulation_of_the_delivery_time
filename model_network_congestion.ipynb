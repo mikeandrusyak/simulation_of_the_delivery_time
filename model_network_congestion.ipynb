{
 "cells": [
  {
   "metadata": {},
   "cell_type": "markdown",
   "source": "# Network Congestion",
   "id": "494b45dbd0cafd89"
  },
  {
   "metadata": {},
   "cell_type": "markdown",
   "source": "## Definition & Explanation:\n",
   "id": "7658c35f7c69de49"
  },
  {
   "metadata": {},
   "cell_type": "markdown",
   "source": [
    "Network congestion, also known as \"logistical overloads,\" refers to situations when the volume of shipments surpasses the capacity of the logistics network (sorting centers, transport vehicles, distribution channels). This imbalance results in reduced efficiency, causing delays in processing, sorting, and delivering parcels.\n",
    "\n",
    "During network congestion, resources such as vehicles, sorting infrastructure, staffing, and information systems become bottlenecks. Even minor disruptions can escalate quickly, extending overall delivery times significantly."
   ],
   "id": "d4443cdaaca6f7c6"
  },
  {
   "metadata": {},
   "cell_type": "markdown",
   "source": "## Theoretical Framework",
   "id": "e16c3a62c9ac725c"
  },
  {
   "metadata": {},
   "cell_type": "markdown",
   "source": [
    "From a theoretical standpoint, logistical overload can be analyzed using queuing theory and network optimization models:\n",
    "\n",
    "1. **Queuing Theory (Queueing Models)**\n",
    "\n",
    "    Parcels are viewed as customers in a queue awaiting service (sorting, loading, transport). Logistical overload occurs when the \"arrival rate\" of parcels exceeds the \"service rate,\" creating a backlog. Commonly modeled using distributions like the Poisson distribution (for arrivals) and Exponential distribution (for service times). Performance metrics include expected waiting time, queue length, and system utilization.\n",
    "\n",
    "2. **Network Optimization Models (Supply Chain Management)**\n",
    "\n",
    "    Models logistical systems as networks of nodes (distribution centers) and edges (transport routes).\n",
    "    Overload is modeled as exceeding node capacities or bottlenecks along routes.\n",
    "    Optimization methods (e.g., linear programming, simulation) assess capacity constraints and suggest system adjustments."
   ],
   "id": "38ac9f88a042406"
  },
  {
   "metadata": {},
   "cell_type": "markdown",
   "source": "## Queuing Theory",
   "id": "efffc247af352101"
  },
  {
   "metadata": {},
   "cell_type": "markdown",
   "source": "Queuing theory is a branch of operations research that studies waiting lines or queues. It helps model scenarios where resources are limited, customers (or parcels, in logistics) arrive randomly, and service times vary. It's relevant for modeling logistical overload because it captures how congestion builds when arrival rates surpass handling capacities.",
   "id": "b452374d7f493f30"
  },
  {
   "metadata": {},
   "cell_type": "markdown",
   "source": "### Basic Elements in Queuing Theory:",
   "id": "7907d955b0b849a0"
  },
  {
   "metadata": {},
   "cell_type": "markdown",
   "source": [
    "- **Arrival Process**: Parcels entering the logistics system. Typically modeled using a **Poisson distribution** (random arrivals with an average rate **λ**).\n",
    "- **Service Process**: Handling parcels (sorting, loading, transporting). Often modeled with an **Exponential distribution** (average service rate **μ**).\n",
    "- **Queue**: Parcels waiting to be processed (delays occur here). Delays increase as arrival rates approach or exceed service capacities.\n",
    "- **Servers**: Resources (vehicles, sorting stations, personnel) handling the parcels. When servers become fully utilized, overload happens, causing queues to lengthen."
   ],
   "id": "2d9e444b40b038a5"
  },
  {
   "metadata": {},
   "cell_type": "markdown",
   "source": "### Commonly used Key Perfomance Metrics:",
   "id": "b1bd61083b901a12"
  },
  {
   "metadata": {},
   "cell_type": "markdown",
   "source": [
    "- Average waiting time in the queue (delay time).\n",
    "- Queue length (number of parcels waiting).\n",
    "- Utilization rate (percentage of capacity used).\n",
    "- Probability of delays (chance that a parcel has to wait)."
   ],
   "id": "5b8633c0e10e550e"
  },
  {
   "metadata": {},
   "cell_type": "markdown",
   "source": "## M/M/1 Queue",
   "id": "785eeaa986d13066"
  },
  {
   "metadata": {},
   "cell_type": "markdown",
   "source": [
    "M/M/1 Queue is a simple mmodel to illustrate logistical overload\n",
    "\n",
    "M = Poisson arrivals (Markovian arrival process).\n",
    "\n",
    "M = Exponentially distributed service times.\n",
    "\n",
    "1 = Single server (or single resource)."
   ],
   "id": "98c2cf0a881fe1bc"
  },
  {
   "metadata": {},
   "cell_type": "markdown",
   "source": [
    "This model gives insight into overload conditions through this formula:\n",
    "\n",
    "**ρ=μ / λ​**"
   ],
   "id": "568f6ee2f1dec218"
  },
  {
   "metadata": {},
   "cell_type": "markdown",
   "source": [
    "    ρ = System utilization (how busy the system is).\n",
    "\n",
    "    λ = Arrival rate of parcels.\n",
    "\n",
    "    μ = Service rate (capacity).\n",
    "\n",
    "If ρ≥1ρ≥1 (arrival ≥ capacity), the queue grows indefinitely, meaning significant logistical overload."
   ],
   "id": "57e064e0ecd77877"
  },
  {
   "metadata": {},
   "cell_type": "code",
   "outputs": [],
   "execution_count": null,
   "source": [
    "import numpy as np\n",
    "import matplotlib.pyplot as plt\n",
    "\n",
    "# Parameters\n",
    "arrival_rate = 6      # Parcels per hour\n",
    "service_rate = 6      # Parcels processed per hour\n",
    "simulation_time = 1000  # Simulation duration in hours\n",
    "\n",
    "# Simulate arrival and service times\n",
    "inter_arrival_times = np.random.exponential(1/arrival_rate, int(arrival_rate*simulation_time*1.5))\n",
    "arrival_times = np.cumsum(inter_arrival_times)\n",
    "arrival_times = arrival_times[arrival_times <= simulation_time]\n",
    "\n",
    "service_times = np.random.exponential(1/service_rate, len(arrival_times))\n",
    "\n",
    "# Initialize arrays\n",
    "start_service_times = np.zeros(len(arrival_times))\n",
    "departure_times = np.zeros(len(arrival_times))\n",
    "waiting_times = np.zeros(len(arrival_times))\n",
    "\n",
    "# Run simulation\n",
    "for i in range(len(arrival_times)):\n",
    "    if i == 0:\n",
    "        start_service_times[i] = arrival_times[i]\n",
    "    else:\n",
    "        start_service_times[i] = max(arrival_times[i], departure_times[i-1])\n",
    "    waiting_times[i] = start_service_times[i] - arrival_times[i]\n",
    "    departure_times[i] = start_service_times[i] + service_times[i]\n",
    "\n",
    "# Compute average wait time and system metrics\n",
    "average_waiting_time = np.mean(waiting_times)\n",
    "average_queue_length = arrival_rate * average_waiting_time\n",
    "utilization = arrival_rate / service_rate\n",
    "\n",
    "# Results\n",
    "print(f\"Average Waiting Time: {average_waiting_time:.2f} hours\")\n",
    "print(f\"Average Queue Length: {average_queue_length:.2f} parcels\")\n",
    "print(f\"System Utilization: {utilization:.2%}\")\n",
    "\n",
    "# Plot waiting time distribution\n",
    "plt.figure(figsize=(10, 5))\n",
    "plt.hist(waiting_times, bins=30, color='skyblue', edgecolor='black')\n",
    "plt.title('Distribution of Parcel Waiting Times (Queue Delays)')\n",
    "plt.xlabel('Waiting Time (hours)')\n",
    "plt.ylabel('Frequency')\n",
    "plt.grid(True, alpha=0.3)\n",
    "plt.show()\n"
   ],
   "id": "d56cfe96b068ff82"
  },
  {
   "metadata": {},
   "cell_type": "markdown",
   "source": [
    " Explanation of the results:\n",
    "\n",
    "   **Average Waiting Time**: How long parcels are typically delayed due to overload.\n",
    "\n",
    "   **Queue Length**: Number of parcels typically waiting in the system.\n",
    "\n",
    "   **Utilization**: Percentage of total system capacity used; >85–90% often signals overload risks.\n",
    "\n",
    "Adjusting arrival_rate and service_rate lets you explore various overload scenarios:\n",
    "\n",
    "   **arrival_rate** >= service_rate → permanent overload, infinite growth of queue.\n",
    "\n",
    "   **arrival_rate** slightly below service_rate → temporary overloads, occasional significant delays.\n",
    "\n",
    "   **arrival_rate** << service_rate → low utilization, minimal delays."
   ],
   "id": "2599e04534339afe"
  },
  {
   "metadata": {},
   "cell_type": "markdown",
   "source": "# Standard Parcel Delivery Times in Switzerland (2023–Present)\n",
   "id": "5a0b7757ee23a89a"
  },
  {
   "metadata": {},
   "cell_type": "markdown",
   "source": [
    "We looked at the Data from 2022 onwards, to avoid using Data from the Pandemic Years, as we assumed that due to special tempoprary factors these would be heavely skewed.\n",
    "\n",
    "## 2022\n",
    "\n",
    " - Qualitiy target \"on time\": 95\n",
    "\n",
    " - **96.9 %**  of Economy parcels were delivered on time by Swiss Post\n",
    "\n",
    "- \"Staff sorted and reliably delivered **194 million parcels** to all regions of Switzerland\"\n",
    "\n",
    "\n",
    "\n",
    "source: https://www.post.ch/en/about-us/news/2023/letters-parcels-and-newspapers-delivered-on-time-swiss-post-clearly-exceeded-service-quality-targets-in-2022#:~:text=Last%20year%2C%20the%20Swiss%20population,the%20first%20time%20last%20year\n"
   ],
   "id": "65eb2cc61a63f770"
  },
  {
   "metadata": {},
   "cell_type": "markdown",
   "source": [
    " ## 2023\n",
    "\n",
    "-  **99.6 %**  of Economy parcels were delivered on time by Swiss Post. Newly declared as **P+3**\n",
    "- non-Priority parcels must be delivered within **three working days** to be considered on time. That’s one day more than before.\n",
    "\n",
    "\n",
    "\n",
    "source: https://www.post.ch/en/about-us/news/2024/swiss-post-punctual-in-2023#:~:text=Measurement%20Target%202023,96.9\n"
   ],
   "id": "98f05419dcf22cd5"
  }
 ],
 "metadata": {
  "kernelspec": {
   "display_name": "Python 3",
   "language": "python",
   "name": "python3"
  },
  "language_info": {
   "codemirror_mode": {
    "name": "ipython",
    "version": 2
   },
   "file_extension": ".py",
   "mimetype": "text/x-python",
   "name": "python",
   "nbconvert_exporter": "python",
   "pygments_lexer": "ipython2",
   "version": "2.7.6"
  }
 },
 "nbformat": 4,
 "nbformat_minor": 5
}
