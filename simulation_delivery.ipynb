{
 "cells": [
  {
   "cell_type": "code",
   "id": "initial_id",
   "metadata": {
    "collapsed": true,
    "ExecuteTime": {
     "end_time": "2025-05-08T13:29:38.837783Z",
     "start_time": "2025-05-08T13:29:38.834539Z"
    }
   },
   "source": [
    "import numpy as np\n",
    "import pandas as pd\n",
    "import matplotlib.pyplot as plt\n",
    "import seaborn as sns"
   ],
   "outputs": [],
   "execution_count": 1
  },
  {
   "cell_type": "code",
   "id": "747cc0a1",
   "metadata": {
    "ExecuteTime": {
     "end_time": "2025-05-08T13:29:38.879528Z",
     "start_time": "2025-05-08T13:29:38.860305Z"
    }
   },
   "source": [
    "# Simulation Parameters\n",
    "N_SIMULATIONS = 1000000  # Number of packages simulated\n",
    "BASE_DELIVERY_TIME = 3  # Days under normal conditions\n",
    "\n",
    "# Weather and Strike Parameters\n",
    "# Whether delays will be randomly assigned as we don't have a specific data\n",
    "# Rest of the parameter based on the real data\n",
    "WIND_PROB = 0.01\n",
    "WIND_DELAY = np.random.randint(0.5, 1, N_SIMULATIONS)  \n",
    "\n",
    "RAIN_PROB = 0.05  \n",
    "RAIN_DELAY = np.random.randint(1, 2, N_SIMULATIONS)  \n",
    "\n",
    "SNOW_PROB = 0.17 \n",
    "SNOW_DELAY = np.random.randint(1, 2, N_SIMULATIONS)  \n",
    "\n",
    "HIGH_SNOW_PROB = 0.05 \n",
    "HIGH_SNOW_DELAY = np.random.randint(2, 3, N_SIMULATIONS)  \n",
    "\n",
    "STORM_DELAY = 4\n",
    "\n",
    "ICE_PROB = 0.31  \n",
    "ICE_AFTER_SNOW_PROB = 0.4\n",
    "ICE_DELAY = np.random.randint(1, 2, N_SIMULATIONS)  \n",
    "\n",
    "# Short Strike of lenght of 0 to 3 days\n",
    "SHORT_STRIKE_PROB = 0.0052\n",
    "SHORT_STRIKE_DELAY = 1.61\n",
    "\n",
    "# Long Strike of lenght of more than 3 days\n",
    "LONG_STRIKE_PROB = 0.0014\n",
    "LONG_STRIKE_DELAY = 8.6\n",
    "\n",
    "#LOGISTICS_PROB = 0.2  # 20% chance of logistics overload\n",
    "#LOGISTICS_DELAY = np.random.randint(1, 2, N_SIMULATIONS)  # 1-2 extra days\n"
   ],
   "outputs": [],
   "execution_count": 2
  },
  {
   "cell_type": "code",
   "id": "db200f47",
   "metadata": {
    "ExecuteTime": {
     "end_time": "2025-05-08T13:29:39.439318Z",
     "start_time": "2025-05-08T13:29:39.432894Z"
    }
   },
   "source": [
    "# Monte Carlo Simulation\n",
    "def simulate_delivery():\n",
    "    delays = np.zeros(N_SIMULATIONS)  # Initialize delays array\n",
    "\n",
    "    # --- Heavy snow and normal snow (mutually exclusive) ---\n",
    "    high_snow_occurs = np.random.rand(N_SIMULATIONS) < HIGH_SNOW_PROB\n",
    "    delays += high_snow_occurs * HIGH_SNOW_DELAY\n",
    "\n",
    "    # Normal snow occurs only if heavy snow did not occur\n",
    "    snow_occurs = (np.random.rand(N_SIMULATIONS) < SNOW_PROB) & (~high_snow_occurs)\n",
    "    delays += snow_occurs * SNOW_DELAY\n",
    "\n",
    "    # --- Rain and snow (mutually exclusive approximation) ---\n",
    "    # Only rain if snow (normal or heavy) did not happen\n",
    "    rain_occurs = (np.random.rand(N_SIMULATIONS) < RAIN_PROB) & (~snow_occurs) & (~high_snow_occurs)\n",
    "    delays += rain_occurs * RAIN_DELAY\n",
    "\n",
    "    # --- Wind (independent) ---\n",
    "    wind_occurs = np.random.rand(N_SIMULATIONS) < WIND_PROB\n",
    "    delays += wind_occurs * WIND_DELAY\n",
    "\n",
    "    # --- Storm event (combined wind + rain or snow) replaces individual delays if occurred ---\n",
    "    storm_occurs = wind_occurs & (rain_occurs | snow_occurs | high_snow_occurs)\n",
    "    delays[storm_occurs] -= (wind_occurs * WIND_DELAY + rain_occurs * RAIN_DELAY + snow_occurs * SNOW_DELAY + high_snow_occurs * HIGH_SNOW_DELAY)[storm_occurs]\n",
    "    delays[storm_occurs] += STORM_DELAY\n",
    "\n",
    "    # --- Ice: can occur independently, but more likely after heavy snow ---\n",
    "    base_ice_occurs = np.random.rand(N_SIMULATIONS) < ICE_PROB\n",
    "    conditional_ice_after_snow = high_snow_occurs & (np.random.rand(N_SIMULATIONS) < ICE_AFTER_SNOW_PROB)\n",
    "    ice_occurs = base_ice_occurs | conditional_ice_after_snow\n",
    "    delays += ice_occurs * ICE_DELAY\n",
    "\n",
    "    # --- Strikes: only one type of strike can happen at a time ---\n",
    "    strike_randoms = np.random.rand(N_SIMULATIONS)\n",
    "    long_strike_occurs = strike_randoms < LONG_STRIKE_PROB\n",
    "    short_strike_occurs = (strike_randoms < SHORT_STRIKE_PROB) & (~long_strike_occurs)\n",
    "\n",
    "    delays += long_strike_occurs * LONG_STRIKE_DELAY\n",
    "    delays += short_strike_occurs * SHORT_STRIKE_DELAY\n",
    "\n",
    "    # Logistics delay\n",
    "    #logistics_occurs = np.random.rand(N_SIMULATIONS) < LOGISTICS_PROB\n",
    "    # delays += logistics_occurs * LOGISTICS_DELAY\n",
    "\n",
    "    # --- Total delivery time ---\n",
    "    total_delivery_time = BASE_DELIVERY_TIME + delays\n",
    "    return total_delivery_time"
   ],
   "outputs": [],
   "execution_count": 3
  },
  {
   "cell_type": "code",
   "id": "574db132",
   "metadata": {
    "ExecuteTime": {
     "end_time": "2025-05-08T13:29:39.581581Z",
     "start_time": "2025-05-08T13:29:39.458906Z"
    }
   },
   "source": [
    "# Run Simulation\n",
    "delivery_times = simulate_delivery()"
   ],
   "outputs": [],
   "execution_count": 4
  },
  {
   "cell_type": "code",
   "id": "bd3dcc9b",
   "metadata": {
    "ExecuteTime": {
     "end_time": "2025-05-08T13:29:39.615901Z",
     "start_time": "2025-05-08T13:29:39.595342Z"
    }
   },
   "source": [
    "# Statistical Analysis\n",
    "mean_delivery = np.mean(delivery_times)\n",
    "median_delivery = np.median(delivery_times)\n",
    "prob_over_5_days = np.mean(delivery_times > 5)\n",
    "prob_over_10_days = np.mean(delivery_times > 10)"
   ],
   "outputs": [],
   "execution_count": 5
  },
  {
   "cell_type": "code",
   "id": "719a4780",
   "metadata": {
    "ExecuteTime": {
     "end_time": "2025-05-08T13:29:39.634Z",
     "start_time": "2025-05-08T13:29:39.628834Z"
    }
   },
   "source": [
    "# Display Results\n",
    "print(f\"Mean Delivery Time: {mean_delivery:.2f} days\")\n",
    "print(f\"Median Delivery Time: {median_delivery:.2f} days\")\n",
    "print(f\"Probability of Delivery > 5 days: {prob_over_5_days:.2%}\")\n",
    "print(f\"Probability of Delivery > 10 days: {prob_over_10_days:.2%}\")"
   ],
   "outputs": [
    {
     "name": "stdout",
     "output_type": "stream",
     "text": [
      "Mean Delivery Time: 3.71 days\n",
      "Median Delivery Time: 3.00 days\n",
      "Probability of Delivery > 5 days: 3.83%\n",
      "Probability of Delivery > 10 days: 0.66%\n"
     ]
    }
   ],
   "execution_count": 6
  },
  {
   "cell_type": "code",
   "id": "523a9949",
   "metadata": {
    "ExecuteTime": {
     "end_time": "2025-05-08T13:29:47.623209Z",
     "start_time": "2025-05-08T13:29:39.649293Z"
    }
   },
   "source": [
    "# Visualization\n",
    "plt.figure(figsize=(10,5))\n",
    "sns.histplot(delivery_times, bins=20, kde=True, color='blue')\n",
    "plt.axvline(5, color='red', linestyle='dashed', linewidth=1, label='5 Days')\n",
    "plt.axvline(10, color='black', linestyle='dashed', linewidth=1, label='10 Days')\n",
    "plt.xlabel('Total Delivery Time (days)')\n",
    "plt.ylabel('Frequency')\n",
    "plt.title('Distribution of Simulated Delivery Times')\n",
    "plt.legend()\n",
    "plt.show()"
   ],
   "outputs": [
    {
     "data": {
      "text/plain": [
       "<Figure size 1000x500 with 1 Axes>"
      ],
      "image/png": "[encoded data removed]"
     },
     "metadata": {},
     "output_type": "display_data"
    }
   ],
   "execution_count": 7
  }
 ],
 "metadata": {
  "kernelspec": {
   "display_name": ".venv",
   "language": "python",
   "name": "python3"
  },
  "language_info": {
   "codemirror_mode": {
    "name": "ipython",
    "version": 3
   },
   "file_extension": ".py",
   "mimetype": "text/x-python",
   "name": "python",
   "nbconvert_exporter": "python",
   "pygments_lexer": "ipython3",
   "version": "3.12.5"
  }
 },
 "nbformat": 4,
 "nbformat_minor": 5
}
