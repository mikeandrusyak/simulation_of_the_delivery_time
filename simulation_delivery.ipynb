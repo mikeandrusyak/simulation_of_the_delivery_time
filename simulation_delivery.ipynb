{
 "cells": [
  {
   "cell_type": "code",
   "id": "initial_id",
   "metadata": {
    "collapsed": true,
    "ExecuteTime": {
     "end_time": "2025-05-12T11:53:22.808471Z",
     "start_time": "2025-05-12T11:53:22.805946Z"
    }
   },
   "source": [
    "import numpy as np\n",
    "import pandas as pd\n",
    "import matplotlib.pyplot as plt\n",
    "import seaborn as sns"
   ],
   "outputs": [],
   "execution_count": 5
  },
  {
   "cell_type": "code",
   "id": "747cc0a1",
   "metadata": {
    "ExecuteTime": {
     "end_time": "2025-05-12T11:53:22.840855Z",
     "start_time": "2025-05-12T11:53:22.823743Z"
    }
   },
   "source": [
    "# Simulation Parameters\n",
    "N_SIMULATIONS = 1000000  # Number of packages simulated\n",
    "BASE_DELIVERY_TIME = 3  # Days under normal conditions\n",
    "\n",
    "#-----------------------------------------------------------------------------------------\n",
    "\n",
    "# Weather Parameters\n",
    "# Whether delays will be randomly assigned as we don't have a specific data\n",
    "# Rest of the parameter based on the real data\n",
    "\n",
    "WIND_PROB = 0.01\n",
    "WIND_DELAY = np.random.randint(0.5, 1, N_SIMULATIONS)  \n",
    "\n",
    "RAIN_PROB = 0.05  \n",
    "RAIN_DELAY = np.random.randint(1, 2, N_SIMULATIONS)  \n",
    "\n",
    "SNOW_PROB = 0.17 \n",
    "SNOW_DELAY = np.random.randint(1, 2, N_SIMULATIONS)  \n",
    "\n",
    "HIGH_SNOW_PROB = 0.05 \n",
    "HIGH_SNOW_DELAY = np.random.randint(2, 3, N_SIMULATIONS)  \n",
    "\n",
    "STORM_DELAY = 4\n",
    "\n",
    "ICE_PROB = 0.31  \n",
    "ICE_AFTER_SNOW_PROB = 0.4\n",
    "ICE_DELAY = np.random.randint(1, 2, N_SIMULATIONS)\n",
    "\n",
    "#-----------------------------------------------------------------------------------------\n",
    "\n",
    "# Strike Parameter\n",
    "# Probability and delay are beforehand calculated from real world data.\n",
    "\n",
    "\n",
    "# Short Strike of lenght of 0 to 3 days\n",
    "SHORT_STRIKE_PROB = 0.0052\n",
    "SHORT_STRIKE_DELAY = 1.61\n",
    "\n",
    "# Long Strike of lenght of more than 3 days\n",
    "LONG_STRIKE_PROB = 0.0014\n",
    "LONG_STRIKE_DELAY = 8.6\n",
    "\n",
    "#-----------------------------------------------------------------------------------------\n",
    "\n",
    "# Network Congestion Parameter\n",
    "\n",
    "# Independent Network Congestions\n",
    "INDEPENDENT_CONGESTION_PROB = 0.10\n",
    "INDEPENDENT_CONGESTION_DELAY = np.random.randint(1, 3, N_SIMULATIONS)\n",
    "\n",
    "# Dependent Network Congestions (conditional on specific weather or strike events)\n",
    "CONGESTION_PROB_WIND = 0.1\n",
    "CONGESTION_PROB_RAIN = 0.2\n",
    "CONGESTION_PROB_SNOW = 0.3\n",
    "CONGESTION_PROB_HIGH_SNOW = 0.5\n",
    "CONGESTION_PROB_ICE = 0.4\n",
    "CONGESTION_PROB_SHORT_STRIKE = 0.6\n",
    "CONGESTION_PROB_LONG_STRIKE = 0.8\n",
    "DEPENDENT_CONGESTION_DELAY = np.random.randint(1, 4, N_SIMULATIONS)\n"
   ],
   "outputs": [],
   "execution_count": 6
  },
  {
   "cell_type": "code",
   "id": "db200f47",
   "metadata": {
    "ExecuteTime": {
     "end_time": "2025-05-12T11:53:22.853023Z",
     "start_time": "2025-05-12T11:53:22.848550Z"
    }
   },
   "source": [
    "# Monte Carlo Simulation\n",
    "def simulate_delivery():\n",
    "    delays = np.zeros(N_SIMULATIONS)  # Initialize delays array\n",
    "\n",
    "#-----------------------------------------------------------------------------------------\n",
    "\n",
    "    # Weather Simulation\n",
    "\n",
    "    # --- Heavy snow and normal snow (mutually exclusive) ---\n",
    "    high_snow_occurs = np.random.rand(N_SIMULATIONS) < HIGH_SNOW_PROB\n",
    "    delays += high_snow_occurs * HIGH_SNOW_DELAY\n",
    "\n",
    "    # Normal snow occurs only if heavy snow did not occur\n",
    "    snow_occurs = (np.random.rand(N_SIMULATIONS) < SNOW_PROB) & (~high_snow_occurs)\n",
    "    delays += snow_occurs * SNOW_DELAY\n",
    "\n",
    "    # --- Rain and snow (mutually exclusive approximation) ---\n",
    "    # Only rain if snow (normal or heavy) did not happen\n",
    "    rain_occurs = (np.random.rand(N_SIMULATIONS) < RAIN_PROB) & (~snow_occurs) & (~high_snow_occurs)\n",
    "    delays += rain_occurs * RAIN_DELAY\n",
    "\n",
    "    # --- Wind (independent) ---\n",
    "    wind_occurs = np.random.rand(N_SIMULATIONS) < WIND_PROB\n",
    "    delays += wind_occurs * WIND_DELAY\n",
    "\n",
    "    # --- Storm event (combined wind + rain or snow) replaces individual delays if occurred ---\n",
    "    storm_occurs = wind_occurs & (rain_occurs | snow_occurs | high_snow_occurs)\n",
    "    delays[storm_occurs] -= (wind_occurs * WIND_DELAY + rain_occurs * RAIN_DELAY + snow_occurs * SNOW_DELAY + high_snow_occurs * HIGH_SNOW_DELAY)[storm_occurs]\n",
    "    delays[storm_occurs] += STORM_DELAY\n",
    "\n",
    "    # --- Ice: can occur independently, but more likely after heavy snow ---\n",
    "    base_ice_occurs = np.random.rand(N_SIMULATIONS) < ICE_PROB\n",
    "    conditional_ice_after_snow = high_snow_occurs & (np.random.rand(N_SIMULATIONS) < ICE_AFTER_SNOW_PROB)\n",
    "    ice_occurs = base_ice_occurs | conditional_ice_after_snow\n",
    "    delays += ice_occurs * ICE_DELAY\n",
    "\n",
    "#-----------------------------------------------------------------------------------------\n",
    "\n",
    "    #Strike Simulation\n",
    "\n",
    "    # --- Strikes: only one type of strike can happen at a time ---\n",
    "    strike_randoms = np.random.rand(N_SIMULATIONS)\n",
    "    long_strike_occurs = strike_randoms < LONG_STRIKE_PROB\n",
    "    short_strike_occurs = (strike_randoms < SHORT_STRIKE_PROB) & (~long_strike_occurs)\n",
    "\n",
    "    delays += long_strike_occurs * LONG_STRIKE_DELAY\n",
    "    delays += short_strike_occurs * SHORT_STRIKE_DELAY\n",
    "\n",
    "#-----------------------------------------------------------------------------------------\n",
    "\n",
    "    #Network Congestion Simulation\n",
    "\n",
    "    # --- Independent congestion ---\n",
    "    independent_congestion_occurs = np.random.rand(N_SIMULATIONS) < INDEPENDENT_CONGESTION_PROB\n",
    "    delays += independent_congestion_occurs * INDEPENDENT_CONGESTION_DELAY\n",
    "\n",
    "    # --- Dependent congestion (separate probabilities for each event) ---\n",
    "    dependent_congestion_occurs = (\n",
    "        (wind_occurs & (np.random.rand(N_SIMULATIONS) < CONGESTION_PROB_WIND)) |\n",
    "        (rain_occurs & (np.random.rand(N_SIMULATIONS) < CONGESTION_PROB_RAIN)) |\n",
    "        (snow_occurs & (np.random.rand(N_SIMULATIONS) < CONGESTION_PROB_SNOW)) |\n",
    "        (high_snow_occurs & (np.random.rand(N_SIMULATIONS) < CONGESTION_PROB_HIGH_SNOW)) |\n",
    "        (ice_occurs & (np.random.rand(N_SIMULATIONS) < CONGESTION_PROB_ICE)) |\n",
    "        (short_strike_occurs & (np.random.rand(N_SIMULATIONS) < CONGESTION_PROB_SHORT_STRIKE)) |\n",
    "        (long_strike_occurs & (np.random.rand(N_SIMULATIONS) < CONGESTION_PROB_LONG_STRIKE))\n",
    "    )\n",
    "    delays += dependent_congestion_occurs * DEPENDENT_CONGESTION_DELAY\n",
    "\n",
    "#-----------------------------------------------------------------------------------------\n",
    "\n",
    "    # --- Total delivery time ---\n",
    "    total_delivery_time = BASE_DELIVERY_TIME + delays\n",
    "    return total_delivery_time"
   ],
   "outputs": [],
   "execution_count": 7
  },
  {
   "cell_type": "code",
   "id": "574db132",
   "metadata": {
    "ExecuteTime": {
     "end_time": "2025-05-12T11:53:22.969185Z",
     "start_time": "2025-05-12T11:53:22.860177Z"
    }
   },
   "source": [
    "# Run Simulation\n",
    "delivery_times = simulate_delivery()"
   ],
   "outputs": [],
   "execution_count": 8
  },
  {
   "cell_type": "code",
   "id": "bd3dcc9b",
   "metadata": {
    "ExecuteTime": {
     "end_time": "2025-05-12T11:53:22.999100Z",
     "start_time": "2025-05-12T11:53:22.980433Z"
    }
   },
   "source": [
    "# Statistical Analysis\n",
    "mean_delivery = np.mean(delivery_times)\n",
    "median_delivery = np.median(delivery_times)\n",
    "prob_over_5_days = np.mean(delivery_times > 5)\n",
    "prob_over_10_days = np.mean(delivery_times > 10)"
   ],
   "outputs": [],
   "execution_count": 9
  },
  {
   "cell_type": "code",
   "id": "719a4780",
   "metadata": {
    "ExecuteTime": {
     "end_time": "2025-05-12T11:53:23.010548Z",
     "start_time": "2025-05-12T11:53:23.007622Z"
    }
   },
   "source": [
    "# Display Results\n",
    "print(f\"Mean Delivery Time: {mean_delivery:.2f} days\")\n",
    "print(f\"Median Delivery Time: {median_delivery:.2f} days\")\n",
    "print(f\"Probability of Delivery > 5 days: {prob_over_5_days:.2%}\")\n",
    "print(f\"Probability of Delivery > 10 days: {prob_over_10_days:.2%}\")"
   ],
   "outputs": [
    {
     "name": "stdout",
     "output_type": "stream",
     "text": [
      "Mean Delivery Time: 4.20 days\n",
      "Median Delivery Time: 4.00 days\n",
      "Probability of Delivery > 5 days: 18.79%\n",
      "Probability of Delivery > 10 days: 0.21%\n"
     ]
    }
   ],
   "execution_count": 10
  },
  {
   "cell_type": "code",
   "id": "523a9949",
   "metadata": {
    "ExecuteTime": {
     "end_time": "2025-05-12T11:53:28.257783Z",
     "start_time": "2025-05-12T11:53:23.019139Z"
    }
   },
   "source": [
    "# Visualization\n",
    "plt.figure(figsize=(10,5))\n",
    "sns.histplot(delivery_times, bins=20, kde=True, color='blue')\n",
    "plt.axvline(5, color='red', linestyle='dashed', linewidth=1, label='5 Days')\n",
    "plt.axvline(10, color='black', linestyle='dashed', linewidth=1, label='10 Days')\n",
    "plt.xlabel('Total Delivery Time (days)')\n",
    "plt.ylabel('Frequency')\n",
    "plt.title('Distribution of Simulated Delivery Times')\n",
    "plt.legend()\n",
    "plt.show()"
   ],
   "outputs": [
    {
     "data": {
      "text/plain": [
       "<Figure size 1000x500 with 1 Axes>"
      ],
      "image/png": "[encoded data removed]"
     },
     "metadata": {},
     "output_type": "display_data"
    }
   ],
   "execution_count": 11
  }
 ],
 "metadata": {
  "kernelspec": {
   "display_name": ".venv",
   "language": "python",
   "name": "python3"
  },
  "language_info": {
   "codemirror_mode": {
    "name": "ipython",
    "version": 3
   },
   "file_extension": ".py",
   "mimetype": "text/x-python",
   "name": "python",
   "nbconvert_exporter": "python",
   "pygments_lexer": "ipython3",
   "version": "3.12.5"
  }
 },
 "nbformat": 4,
 "nbformat_minor": 5
}
