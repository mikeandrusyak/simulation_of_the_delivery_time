{
 "cells": [
  {
   "cell_type": "code",
   "execution_count": null,
   "id": "initial_id",
   "metadata": {
    "collapsed": true
   },
   "outputs": [],
   "source": [
    "import numpy as np\n",
    "import pandas as pd\n",
    "import matplotlib.pyplot as plt\n",
    "import seaborn as sns\n",
    "\n",
    "# Simulation Parameters\n",
    "N_SIMULATIONS = 10000  # Number of packages simulated\n",
    "BASE_DELIVERY_TIME = 3  # Days under normal conditions\n",
    "\n",
    "# Delay probabilities and added days\n",
    "WEATHER_PROB = 0.1  # 10% chance of weather delay\n",
    "WEATHER_DELAY = np.random.randint(1, 4, N_SIMULATIONS)  # 1-3 extra days\n",
    "\n",
    "LOGISTICS_PROB = 0.2  # 20% chance of logistics overload\n",
    "LOGISTICS_DELAY = np.random.randint(1, 3, N_SIMULATIONS)  # 1-2 extra days\n",
    "\n",
    "STRIKE_PROB = 0.05  # 5% chance of strike delay\n",
    "STRIKE_DELAY = np.random.randint(2, 6, N_SIMULATIONS)  # 2-5 extra days\n",
    "\n",
    "# Monte Carlo Simulation\n",
    "def simulate_delivery():\n",
    "    delays = np.zeros(N_SIMULATIONS)\n",
    "\n",
    "    # Weather delay\n",
    "    weather_occurs = np.random.rand(N_SIMULATIONS) < WEATHER_PROB\n",
    "    delays += weather_occurs * WEATHER_DELAY\n",
    "\n",
    "    # Logistics delay\n",
    "    logistics_occurs = np.random.rand(N_SIMULATIONS) < LOGISTICS_PROB\n",
    "    delays += logistics_occurs * LOGISTICS_DELAY\n",
    "\n",
    "    # Strike delay\n",
    "    strike_occurs = np.random.rand(N_SIMULATIONS) < STRIKE_PROB\n",
    "    delays += strike_occurs * STRIKE_DELAY\n",
    "\n",
    "    total_delivery_time = BASE_DELIVERY_TIME + delays\n",
    "    return total_delivery_time\n",
    "\n",
    "# Run Simulation\n",
    "delivery_times = simulate_delivery()\n",
    "\n",
    "# Statistical Analysis\n",
    "mean_delivery = np.mean(delivery_times)\n",
    "median_delivery = np.median(delivery_times)\n",
    "prob_over_5_days = np.mean(delivery_times > 5)\n",
    "prob_over_10_days = np.mean(delivery_times > 10)\n",
    "\n",
    "# Display Results\n",
    "print(f\"Mean Delivery Time: {mean_delivery:.2f} days\")\n",
    "print(f\"Median Delivery Time: {median_delivery:.2f} days\")\n",
    "print(f\"Probability of Delivery > 5 days: {prob_over_5_days:.2%}\")\n",
    "print(f\"Probability of Delivery > 10 days: {prob_over_10_days:.2%}\")\n",
    "\n",
    "# Visualization\n",
    "plt.figure(figsize=(10,5))\n",
    "sns.histplot(delivery_times, bins=20, kde=True, color='blue')\n",
    "plt.axvline(5, color='red', linestyle='dashed', linewidth=1, label='5 Days')\n",
    "plt.axvline(10, color='black', linestyle='dashed', linewidth=1, label='10 Days')\n",
    "plt.xlabel('Total Delivery Time (days)')\n",
    "plt.ylabel('Frequency')\n",
    "plt.title('Distribution of Simulated Delivery Times')\n",
    "plt.legend()\n",
    "plt.show()\n"
   ]
  }
 ],
 "metadata": {
  "kernelspec": {
   "display_name": "Python 3",
   "language": "python",
   "name": "python3"
  },
  "language_info": {
   "codemirror_mode": {
    "name": "ipython",
    "version": 2
   },
   "file_extension": ".py",
   "mimetype": "text/x-python",
   "name": "python",
   "nbconvert_exporter": "python",
   "pygments_lexer": "ipython2",
   "version": "2.7.6"
  }
 },
 "nbformat": 4,
 "nbformat_minor": 5
}
