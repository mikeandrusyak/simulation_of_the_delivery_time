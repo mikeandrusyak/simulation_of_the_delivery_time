{
 "cells": [
  {
   "cell_type": "code",
   "id": "initial_id",
   "metadata": {
    "collapsed": true,
    "ExecuteTime": {
     "end_time": "2025-05-01T15:15:24.775472Z",
     "start_time": "2025-05-01T15:15:24.770711Z"
    }
   },
   "source": [
    "import numpy as np\n",
    "import pandas as pd\n",
    "import matplotlib.pyplot as plt\n",
    "import seaborn as sns"
   ],
   "outputs": [],
   "execution_count": 21
  },
  {
   "cell_type": "code",
   "id": "875e5e13",
   "metadata": {
    "ExecuteTime": {
     "end_time": "2025-05-01T15:15:24.787259Z",
     "start_time": "2025-05-01T15:15:24.784574Z"
    }
   },
   "source": [
    "# Load the data"
   ],
   "outputs": [],
   "execution_count": 22
  },
  {
   "cell_type": "code",
   "id": "1183c82f",
   "metadata": {
    "ExecuteTime": {
     "end_time": "2025-05-01T15:15:24.802164Z",
     "start_time": "2025-05-01T15:15:24.798382Z"
    }
   },
   "source": [
    "# Clean the data"
   ],
   "outputs": [],
   "execution_count": 23
  },
  {
   "cell_type": "code",
   "id": "dd6915dd",
   "metadata": {
    "ExecuteTime": {
     "end_time": "2025-05-01T15:15:24.816925Z",
     "start_time": "2025-05-01T15:15:24.814099Z"
    }
   },
   "source": [
    "# Explore the data"
   ],
   "outputs": [],
   "execution_count": 24
  },
  {
   "cell_type": "code",
   "id": "0ff3308d",
   "metadata": {
    "ExecuteTime": {
     "end_time": "2025-05-01T15:15:24.832161Z",
     "start_time": "2025-05-01T15:15:24.827877Z"
    }
   },
   "source": "# Define the parameters",
   "outputs": [],
   "execution_count": 25
  },
  {
   "metadata": {},
   "cell_type": "markdown",
   "source": [
    "Exclusive factors:\n",
    "- Parcels, not letters\n",
    "- Derlivery from hub to node (endpoint)\n",
    "- Only hubs within Switzerland, therefore excluding problems in international supply chains\n",
    "- Only standart delivery time, no express delivery\n",
    "- Data from recent years after 2022 (after the pandemic)\n",
    "\n",
    "\n",
    "General Iformation:\n",
    "\n",
    "2022: 96.9 percent of Economy parcels were delivered on time by Swiss Post\n",
    "https://www.post.ch/en/about-us/news/2023/letters-parcels-and-newspapers-delivered-on-time-swiss-post-clearly-exceeded-service-quality-targets-in-2022#:~:text=Last%20year%2C%20the%20Swiss%20population,the%20first%20time%20last%20year\n",
    "Post, 2023: « non-Priority parcels must be delivered within three working days to be considered on time.»\n",
    "https://www.post.ch/en/about-us/news/2024/swiss-post-punctual-in-2023#:~:text=involves%20two%20changes%3A%20non,Swiss%20Post%20products%20remain%20unchanged\n",
    "\n"
   ],
   "id": "63d2900414309704"
  },
  {
   "cell_type": "code",
   "id": "747cc0a1",
   "metadata": {
    "ExecuteTime": {
     "end_time": "2025-05-01T15:15:24.861308Z",
     "start_time": "2025-05-01T15:15:24.842945Z"
    }
   },
   "source": [
    "# Simulation Parameters\n",
    "N_SIMULATIONS = 1000000  # Number of packages simulated\n",
    "BASE_DELIVERY_TIME = 3  # Days under normal conditions\n",
    "\n",
    "# Delay probabilities and added days\n",
    "WEATHER_PROB = 0.1  # 10% chance of weather delay\n",
    "WEATHER_DELAY = np.random.randint(1, 4, N_SIMULATIONS)  # 1-3 extra days\n",
    "\n",
    "#LOGISTICS_PROB = 0.2  # 20% chance of logistics overload\n",
    "#LOGISTICS_DELAY = np.random.randint(1, 3, N_SIMULATIONS)  # 1-2 extra days\n",
    "\n",
    "STRIKE_PROB = 0.00657  # 5% chance of strike delay\n",
    "STRIKE_DELAY = np.random.randint(2, 6, N_SIMULATIONS)  # 2-5 extra days"
   ],
   "outputs": [],
   "execution_count": 26
  },
  {
   "cell_type": "code",
   "id": "db200f47",
   "metadata": {
    "ExecuteTime": {
     "end_time": "2025-05-01T15:15:24.877786Z",
     "start_time": "2025-05-01T15:15:24.873227Z"
    }
   },
   "source": [
    "# Monte Carlo Simulation\n",
    "def simulate_delivery():\n",
    "    delays = np.zeros(N_SIMULATIONS)\n",
    "\n",
    "    # Weather delay\n",
    "    weather_occurs = np.random.rand(N_SIMULATIONS) < WEATHER_PROB\n",
    "    delays += weather_occurs * WEATHER_DELAY\n",
    "\n",
    "    # Logistics delay\n",
    "   #logistics_occurs = np.random.rand(N_SIMULATIONS) < LOGISTICS_PROB\n",
    "   # delays += logistics_occurs * LOGISTICS_DELAY\n",
    "\n",
    "    # Strike delay\n",
    "    strike_occurs = np.random.rand(N_SIMULATIONS) < STRIKE_PROB\n",
    "    delays += strike_occurs * STRIKE_DELAY\n",
    "\n",
    "    total_delivery_time = BASE_DELIVERY_TIME + delays\n",
    "    return total_delivery_time"
   ],
   "outputs": [],
   "execution_count": 27
  },
  {
   "cell_type": "code",
   "id": "574db132",
   "metadata": {
    "ExecuteTime": {
     "end_time": "2025-05-01T15:15:24.915057Z",
     "start_time": "2025-05-01T15:15:24.888637Z"
    }
   },
   "source": [
    "# Run Simulation\n",
    "delivery_times = simulate_delivery()"
   ],
   "outputs": [],
   "execution_count": 28
  },
  {
   "cell_type": "code",
   "id": "bd3dcc9b",
   "metadata": {
    "ExecuteTime": {
     "end_time": "2025-05-01T15:15:24.938811Z",
     "start_time": "2025-05-01T15:15:24.924157Z"
    }
   },
   "source": [
    "# Statistical Analysis\n",
    "mean_delivery = np.mean(delivery_times)\n",
    "median_delivery = np.median(delivery_times)\n",
    "prob_over_5_days = np.mean(delivery_times > 5)\n",
    "prob_over_10_days = np.mean(delivery_times > 10)"
   ],
   "outputs": [],
   "execution_count": 29
  },
  {
   "cell_type": "code",
   "id": "719a4780",
   "metadata": {
    "ExecuteTime": {
     "end_time": "2025-05-01T15:15:24.953412Z",
     "start_time": "2025-05-01T15:15:24.948698Z"
    }
   },
   "source": [
    "# Display Results\n",
    "print(f\"Mean Delivery Time: {mean_delivery:.2f} days\")\n",
    "print(f\"Median Delivery Time: {median_delivery:.2f} days\")\n",
    "print(f\"Probability of Delivery > 5 days: {prob_over_5_days:.2%}\")\n",
    "print(f\"Probability of Delivery > 10 days: {prob_over_10_days:.2%}\")"
   ],
   "outputs": [
    {
     "name": "stdout",
     "output_type": "stream",
     "text": [
      "Mean Delivery Time: 3.22 days\n",
      "Median Delivery Time: 3.00 days\n",
      "Probability of Delivery > 5 days: 3.80%\n",
      "Probability of Delivery > 10 days: 0.01%\n"
     ]
    }
   ],
   "execution_count": 30
  },
  {
   "cell_type": "code",
   "id": "523a9949",
   "metadata": {
    "ExecuteTime": {
     "end_time": "2025-05-01T15:15:30.561959Z",
     "start_time": "2025-05-01T15:15:24.974524Z"
    }
   },
   "source": [
    "# Visualization\n",
    "plt.figure(figsize=(10,5))\n",
    "sns.histplot(delivery_times, bins=20, kde=True, color='blue')\n",
    "plt.axvline(5, color='red', linestyle='dashed', linewidth=1, label='5 Days')\n",
    "plt.axvline(10, color='black', linestyle='dashed', linewidth=1, label='10 Days')\n",
    "plt.xlabel('Total Delivery Time (days)')\n",
    "plt.ylabel('Frequency')\n",
    "plt.title('Distribution of Simulated Delivery Times')\n",
    "plt.legend()\n",
    "plt.show()"
   ],
   "outputs": [
    {
     "data": {
      "text/plain": [
       "<Figure size 1000x500 with 1 Axes>"
      ],
      "image/png": "[encoded data removed]"
     },
     "metadata": {},
     "output_type": "display_data"
    }
   ],
   "execution_count": 31
  }
 ],
 "metadata": {
  "kernelspec": {
   "display_name": ".venv",
   "language": "python",
   "name": "python3"
  },
  "language_info": {
   "codemirror_mode": {
    "name": "ipython",
    "version": 3
   },
   "file_extension": ".py",
   "mimetype": "text/x-python",
   "name": "python",
   "nbconvert_exporter": "python",
   "pygments_lexer": "ipython3",
   "version": "3.12.5"
  }
 },
 "nbformat": 4,
 "nbformat_minor": 5
}
